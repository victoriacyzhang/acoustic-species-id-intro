{
 "cells": [
  {
   "cell_type": "code",
   "execution_count": 1,
   "metadata": {},
   "outputs": [],
   "source": [
    "import pandas as pd\n",
    "import random"
   ]
  },
  {
   "cell_type": "code",
   "execution_count": 2,
   "metadata": {},
   "outputs": [
    {
     "name": "stderr",
     "output_type": "stream",
     "text": [
      "/Users/victoriacyzhang/opt/anaconda3/lib/python3.8/site-packages/IPython/core/interactiveshell.py:3071: DtypeWarning: Columns (1,11,15) have mixed types.Specify dtype option on import or set low_memory=False.\n",
      "  has_raised = await self.run_ast_nodes(code_ast.body, cell_name,\n"
     ]
    }
   ],
   "source": [
    "# load source data\n",
    "data_df = pd.read_csv(\"Peru_2019_AudioMoth_Data_Full.csv\")"
   ]
  },
  {
   "cell_type": "code",
   "execution_count": 3,
   "metadata": {},
   "outputs": [],
   "source": [
    "# delete samples with short durations\n",
    "temp_index = data_df[data_df['Duration'] < 60].index\n",
    "data_df.drop(temp_index, inplace=True)\n",
    "# delete samples with errors \n",
    "data_df = data_df[data_df['Error'].isnull()]"
   ]
  },
  {
   "cell_type": "code",
   "execution_count": 4,
   "metadata": {},
   "outputs": [],
   "source": [
    "# initialize a list of valid AMs\n",
    "AMs = {}\n",
    "for am in data_df.Directory.unique(): # iterate through all possible AMs\n",
    "    curr = data_df.loc[data_df['Directory'] == am]\n",
    "    hours = set() # set of hours\n",
    "    tempDict = {} # dictionary of hour -> list of rows\n",
    "    for _, row in curr.iterrows(): # iterate through current AM\n",
    "        value = (pd.to_datetime(row['StartDateTime']).hour) # hour corresponded to current row\n",
    "        hours.add(value)\n",
    "        # add row to dictionary\n",
    "        if value in tempDict.keys():\n",
    "            tempDict[value].append(row)\n",
    "        else:\n",
    "            tempDict[value] = [row]\n",
    "    # only add current AM if it has enough clips\n",
    "    if len(hours) == 24:\n",
    "        AMs[am] = tempDict    "
   ]
  },
  {
   "cell_type": "code",
   "execution_count": 7,
   "metadata": {},
   "outputs": [],
   "source": [
    "# initialize result list\n",
    "result = [] \n",
    "# pick one random row from each hour\n",
    "for li in AMs.keys():\n",
    "    for hour in AMs[li]:\n",
    "        result.append((random.choice(AMs[li][hour])).to_frame().transpose())"
   ]
  },
  {
   "cell_type": "code",
   "execution_count": 8,
   "metadata": {},
   "outputs": [],
   "source": [
    "# store result as csv\n",
    "resultdf = pd.concat(result).reset_index(drop=True)\n",
    "resultdf.to_csv(\"result.csv\")"
   ]
  }
 ],
 "metadata": {
  "kernelspec": {
   "display_name": "Python 3",
   "language": "python",
   "name": "python3"
  },
  "language_info": {
   "codemirror_mode": {
    "name": "ipython",
    "version": 3
   },
   "file_extension": ".py",
   "mimetype": "text/x-python",
   "name": "python",
   "nbconvert_exporter": "python",
   "pygments_lexer": "ipython3",
   "version": "3.8.3"
  }
 },
 "nbformat": 4,
 "nbformat_minor": 4
}
